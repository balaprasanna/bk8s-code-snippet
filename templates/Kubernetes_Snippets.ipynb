{
  "nbformat": 4,
  "nbformat_minor": 0,
  "metadata": {
    "colab": {
      "name": "Kubernetes-Snippets.ipynb",
      "version": "0.3.2",
      "provenance": [],
      "collapsed_sections": []
    },
    "kernelspec": {
      "name": "python3",
      "display_name": "Python 3"
    }
  },
  "cells": [
    {
      "cell_type": "markdown",
      "metadata": {
        "id": "UlgULBOiHOEv",
        "colab_type": "text"
      },
      "source": [
        "# Read a sample yml file"
      ]
    },
    {
      "cell_type": "code",
      "metadata": {
        "id": "cCmjn6CDHUI_",
        "colab_type": "code",
        "colab": {}
      },
      "source": [
        "with open('./01-pod-simple.yml') as f:\n",
        "  content = f.read()"
      ],
      "execution_count": 0,
      "outputs": []
    },
    {
      "cell_type": "code",
      "metadata": {
        "id": "0dO7KhjVHmbN",
        "colab_type": "code",
        "colab": {
          "base_uri": "https://localhost:8080/",
          "height": 55
        },
        "outputId": "d20a39b9-d40f-4cc1-f9d9-202879b9ecca"
      },
      "source": [
        "content"
      ],
      "execution_count": 3,
      "outputs": [
        {
          "output_type": "execute_result",
          "data": {
            "text/plain": [
              "'apiVersion: v1\\nkind: Pod\\nmetadata:\\n  name: fapppod\\n  labels:\\n    app: fapp\\nspec:\\n  containers:\\n  - name: fappcont\\n    image: balanus/fapp:v1\\n    ports:\\n    - name:  appport\\n      containerPort: 3000\\n      protocol: TCP\\n  '"
            ]
          },
          "metadata": {
            "tags": []
          },
          "execution_count": 3
        }
      ]
    },
    {
      "cell_type": "code",
      "metadata": {
        "id": "ZDYXZfdXHnVP",
        "colab_type": "code",
        "colab": {
          "base_uri": "https://localhost:8080/",
          "height": 276
        },
        "outputId": "f10a399a-1e4b-40a7-b269-e1e95ce48ef5"
      },
      "source": [
        "print('apiVersion: v1\\nkind: Pod\\nmetadata:\\n  name: fapppod\\n  labels:\\n    app: fapp\\nspec:\\n  containers:\\n  - name: fappcont\\n    image: balanus/fapp:v1\\n    ports:\\n    - name:  appport\\n      containerPort: 3000\\n      protocol: TCP\\n  ')"
      ],
      "execution_count": 4,
      "outputs": [
        {
          "output_type": "stream",
          "text": [
            "apiVersion: v1\n",
            "kind: Pod\n",
            "metadata:\n",
            "  name: fapppod\n",
            "  labels:\n",
            "    app: fapp\n",
            "spec:\n",
            "  containers:\n",
            "  - name: fappcont\n",
            "    image: balanus/fapp:v1\n",
            "    ports:\n",
            "    - name:  appport\n",
            "      containerPort: 3000\n",
            "      protocol: TCP\n",
            "  \n"
          ],
          "name": "stdout"
        }
      ]
    },
    {
      "cell_type": "code",
      "metadata": {
        "id": "5tR66hVHHqk5",
        "colab_type": "code",
        "colab": {}
      },
      "source": [
        "with open('./01-pod.yml') as f:\n",
        "  content = f.read()"
      ],
      "execution_count": 0,
      "outputs": []
    },
    {
      "cell_type": "code",
      "metadata": {
        "id": "5VcqTAdBH18x",
        "colab_type": "code",
        "colab": {
          "base_uri": "https://localhost:8080/",
          "height": 345
        },
        "outputId": "650629e8-7091-4154-91e0-7233bc3c4348"
      },
      "source": [
        "print(content)"
      ],
      "execution_count": 10,
      "outputs": [
        {
          "output_type": "stream",
          "text": [
            "apiVersion: v1\n",
            "kind: Pod\n",
            "metadata:\n",
            "  name: Enter pod name\n",
            "  labels:\n",
            "    app: Enter pod name\n",
            "spec:\n",
            "  containers:\n",
            "  - name: Enter container name\n",
            "    image: Enter container name\n",
            "    ports:\n",
            "    - name:  containerport\n",
            "      containerPort: Enter container port number\n",
            "      protocol: TCP\n",
            "    resources:\n",
            "      limits:\n",
            "        memory: \"100Mi\"\n",
            "        cpu: \"100m\"\n",
            "  \n"
          ],
          "name": "stdout"
        }
      ]
    },
    {
      "cell_type": "code",
      "metadata": {
        "id": "e4CNGHhnH4Z7",
        "colab_type": "code",
        "colab": {
          "base_uri": "https://localhost:8080/",
          "height": 55
        },
        "outputId": "f9793a90-671a-4097-f589-452f2cf16690"
      },
      "source": [
        "content"
      ],
      "execution_count": 11,
      "outputs": [
        {
          "output_type": "execute_result",
          "data": {
            "text/plain": [
              "'apiVersion: v1\\nkind: Pod\\nmetadata:\\n  name: Enter pod name\\n  labels:\\n    app: Enter pod name\\nspec:\\n  containers:\\n  - name: Enter container name\\n    image: Enter container name\\n    ports:\\n    - name:  containerport\\n      containerPort: Enter container port number\\n      protocol: TCP\\n    resources:\\n      limits:\\n        memory: \"100Mi\"\\n        cpu: \"100m\"\\n  '"
            ]
          },
          "metadata": {
            "tags": []
          },
          "execution_count": 11
        }
      ]
    },
    {
      "cell_type": "code",
      "metadata": {
        "id": "X6a4gv8zS5Dl",
        "colab_type": "code",
        "colab": {
          "base_uri": "https://localhost:8080/",
          "height": 35
        },
        "outputId": "cd641c16-1a83-4c24-c8f6-14791eabbb34"
      },
      "source": [
        ""
      ],
      "execution_count": 12,
      "outputs": [
        {
          "output_type": "stream",
          "text": [
            "01-pod-simple.yml  01-pod.yml  sample_data\n"
          ],
          "name": "stdout"
        }
      ]
    },
    {
      "cell_type": "code",
      "metadata": {
        "id": "STXkr2THjyoh",
        "colab_type": "code",
        "colab": {
          "base_uri": "https://localhost:8080/",
          "height": 121
        },
        "outputId": "68990750-e58f-48b7-9792-07ca5dc8ce59"
      },
      "source": [
        "# !git clone https://github.com/balaprasanna/bk8s-code-snippet.git"
      ],
      "execution_count": 14,
      "outputs": [
        {
          "output_type": "stream",
          "text": [
            "Cloning into 'bk8s-code-snippet'...\n",
            "remote: Enumerating objects: 72, done.\u001b[K\n",
            "remote: Counting objects: 100% (72/72), done.\u001b[K\n",
            "remote: Compressing objects: 100% (51/51), done.\u001b[K\n",
            "remote: Total 72 (delta 28), reused 62 (delta 18), pack-reused 0\u001b[K\n",
            "Unpacking objects: 100% (72/72), done.\n"
          ],
          "name": "stdout"
        }
      ]
    },
    {
      "cell_type": "code",
      "metadata": {
        "id": "GNuCNGmDmdv2",
        "colab_type": "code",
        "colab": {}
      },
      "source": [
        "path = \"./bk8s-code-snippet/snippets/\"\n",
        "basepath = \"./yamlfiles/\"\n",
        "# import os\n",
        "# os.mkdir(basepath)\n",
        "\n",
        "import glob\n",
        "import json"
      ],
      "execution_count": 0,
      "outputs": []
    },
    {
      "cell_type": "code",
      "metadata": {
        "id": "yQVk2EY5mrvM",
        "colab_type": "code",
        "colab": {
          "base_uri": "https://localhost:8080/",
          "height": 553
        },
        "outputId": "164208eb-6f7c-4c81-f929-5cd0b9c309a4"
      },
      "source": [
        "items = []\n",
        "for file in glob.glob(f\"{path}*.json\"):\n",
        "  with open(file) as f:\n",
        "    content_dct = json.load(f)\n",
        "    for key in content_dct.keys():\n",
        "      filename = f'{ content_dct[key][\"prefix\"] }.yaml'\n",
        "      filename = basepath + filename\n",
        "      print(filename)      \n",
        "            \n",
        "      if isinstance(content_dct[key][\"body\"] , list):\n",
        "        print(filename, \"something went wrong.\")\n",
        "        continue\n",
        "          \n",
        "      with open(filename, \"w\") as out_f:\n",
        "        out_f.write( content_dct[key][\"body\"])\n",
        "        \n",
        "      items.append(filename)  "
      ],
      "execution_count": 63,
      "outputs": [
        {
          "output_type": "stream",
          "text": [
            "./yamlfiles/bk_api.yaml\n",
            "./yamlfiles/bk_api.yaml something went wrong.\n",
            "./yamlfiles/bk_apiVersion_v1.yaml\n",
            "./yamlfiles/bk_ports_svc.yaml\n",
            "./yamlfiles/bk_service_complete.yaml\n",
            "./yamlfiles/bk_job.yaml\n",
            "./yamlfiles/bk_secret_for_registry.yaml\n",
            "./yamlfiles/bk_secret_template.yaml\n",
            "./yamlfiles/bk_namespace.yaml\n",
            "./yamlfiles/bk_serviceAccount.yaml\n",
            "./yamlfiles/bk_deployment_simple.yaml\n",
            "./yamlfiles/bk_deployment_complete.yaml\n",
            "./yamlfiles/bk_strategy.yaml\n",
            "./yamlfiles/bk_rollingUpdate.yaml\n",
            "./yamlfiles/bk_configmap_file.yaml\n",
            "./yamlfiles/bk_configmap.yaml\n",
            "./yamlfiles/bk_configmap_kv_file.yaml\n",
            "./yamlfiles/bk_name.yaml\n",
            "./yamlfiles/bk_image.yaml\n",
            "./yamlfiles/bk_ports.yaml\n",
            "./yamlfiles/bk_imagePullSecrets.yaml\n",
            "./yamlfiles/bk_volumeMounts.yaml\n",
            "./yamlfiles/bk_volumes.yaml\n",
            "./yamlfiles/bk_volumes_hostPath.yaml\n",
            "./yamlfiles/bk_command_container.yaml\n",
            "./yamlfiles/bk_imagePullPolicy.yaml\n",
            "./yamlfiles/bk_restartPolicy.yaml\n",
            "./yamlfiles/bk_containers.yaml\n",
            "./yamlfiles/bk_env_from_secret.yaml\n",
            "./yamlfiles/bk_readiness.yaml\n",
            "./yamlfiles/bk_pod_simple.yaml\n"
          ],
          "name": "stdout"
        }
      ]
    },
    {
      "cell_type": "code",
      "metadata": {
        "id": "QVUDtAKbmxwN",
        "colab_type": "code",
        "colab": {}
      },
      "source": [
        "# len(items) ,  len(set(items))"
      ],
      "execution_count": 0,
      "outputs": []
    },
    {
      "cell_type": "code",
      "metadata": {
        "id": "Gx7orArkoPKD",
        "colab_type": "code",
        "colab": {
          "base_uri": "https://localhost:8080/",
          "height": 207
        },
        "outputId": "a140728c-1b8b-435e-8b6c-207e971a658a"
      },
      "source": [
        "print(open('./bk_configmap_file.yaml').read())"
      ],
      "execution_count": 53,
      "outputs": [
        {
          "output_type": "stream",
          "text": [
            "apiVersion: v1\n",
            "kind: ConfigMap\n",
            "metadata:\n",
            "  name: myconfigmap\n",
            "  labels:\n",
            "    app: myapplication\n",
            "data:\n",
            "  my-properties-file.yaml: |\n",
            "    # yaml file\n",
            "    key: value\n",
            "\n"
          ],
          "name": "stdout"
        }
      ]
    },
    {
      "cell_type": "code",
      "metadata": {
        "id": "ElfyV_6zp_4l",
        "colab_type": "code",
        "colab": {}
      },
      "source": [
        "# type(content_dct[key][\"body\"])"
      ],
      "execution_count": 0,
      "outputs": []
    },
    {
      "cell_type": "code",
      "metadata": {
        "id": "voNqzM5Eqb1W",
        "colab_type": "code",
        "colab": {
          "base_uri": "https://localhost:8080/",
          "height": 35
        },
        "outputId": "f39d1195-ae23-47f6-d79a-351bff330c7e"
      },
      "source": [
        "import shutil\n",
        "shutil.make_archive(\"yamlfile_templates\", 'zip', basepath)"
      ],
      "execution_count": 65,
      "outputs": [
        {
          "output_type": "execute_result",
          "data": {
            "text/plain": [
              "'/content/yamlfile_templates.zip'"
            ]
          },
          "metadata": {
            "tags": []
          },
          "execution_count": 65
        }
      ]
    },
    {
      "cell_type": "code",
      "metadata": {
        "id": "dm9t54MprtF8",
        "colab_type": "code",
        "colab": {}
      },
      "source": [
        "# !rm *.yaml"
      ],
      "execution_count": 0,
      "outputs": []
    },
    {
      "cell_type": "code",
      "metadata": {
        "id": "c4dt7B_rr3YI",
        "colab_type": "code",
        "colab": {}
      },
      "source": [
        ""
      ],
      "execution_count": 0,
      "outputs": []
    }
  ]
}